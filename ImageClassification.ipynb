{
 "cells": [
  {
   "cell_type": "markdown",
   "metadata": {
    "colab_type": "text",
    "id": "0gFksacNDL5g"
   },
   "source": [
    "### Importing libraries"
   ]
  },
  {
   "cell_type": "code",
   "execution_count": 63,
   "metadata": {
    "colab": {},
    "colab_type": "code",
    "id": "TpO9kG89Cp3a"
   },
   "outputs": [],
   "source": [
    "import tensorflow as tf\n",
    "from keras.preprocessing.image import ImageDataGenerator"
   ]
  },
  {
   "cell_type": "code",
   "execution_count": 64,
   "metadata": {
    "colab": {
     "base_uri": "https://localhost:8080/",
     "height": 35
    },
    "colab_type": "code",
    "id": "3L15zLOTDzHX",
    "outputId": "915ab7be-c76b-4e65-8f31-f31e8475d49e"
   },
   "outputs": [
    {
     "data": {
      "text/plain": [
       "'2.1.0'"
      ]
     },
     "execution_count": 64,
     "metadata": {},
     "output_type": "execute_result"
    }
   ],
   "source": [
    "tf.__version__"
   ]
  },
  {
   "cell_type": "markdown",
   "metadata": {
    "colab_type": "text",
    "id": "WeCgW6byELMn"
   },
   "source": [
    "### Data Preprocessing"
   ]
  },
  {
   "cell_type": "markdown",
   "metadata": {
    "colab_type": "text",
    "id": "Y0PqK6gjEShT"
   },
   "source": [
    "#### Preprocessing the Training set"
   ]
  },
  {
   "cell_type": "code",
   "execution_count": 65,
   "metadata": {
    "colab": {
     "base_uri": "https://localhost:8080/",
     "height": 366
    },
    "colab_type": "code",
    "id": "o6QCY1hpEY32",
    "outputId": "f844c451-e2fb-4c8d-8394-83a8cc817d08"
   },
   "outputs": [
    {
     "name": "stdout",
     "output_type": "stream",
     "text": [
      "Found 8000 images belonging to 2 classes.\n"
     ]
    }
   ],
   "source": [
    "# Image Augmentation (applying some geometrical transformations on the images to avoid overfitting)\n",
    "\n",
    "train_datagen = ImageDataGenerator(rescale=1./255, shear_range=0.2, zoom_range=0.2, horizontal_flip=True)\n",
    "\n",
    "training_set = train_datagen.flow_from_directory('dataset/training_set', target_size=(64, 64), batch_size=32, class_mode='binary')"
   ]
  },
  {
   "cell_type": "markdown",
   "metadata": {
    "colab_type": "text",
    "id": "Di7LCHGJKiAu"
   },
   "source": [
    "#### Preprocessing the Test set"
   ]
  },
  {
   "cell_type": "code",
   "execution_count": 66,
   "metadata": {
    "colab": {},
    "colab_type": "code",
    "id": "XHMIf1gOK9fz"
   },
   "outputs": [
    {
     "name": "stdout",
     "output_type": "stream",
     "text": [
      "Found 2000 images belonging to 2 classes.\n"
     ]
    }
   ],
   "source": [
    "\n",
    "test_datagen = ImageDataGenerator(rescale=1./255)\n",
    "\n",
    "test_set = test_datagen.flow_from_directory('dataset/test_set', target_size=(64, 64), batch_size=32, class_mode='binary')"
   ]
  },
  {
   "cell_type": "markdown",
   "metadata": {
    "colab_type": "text",
    "id": "1kxEdunqMcS9"
   },
   "source": [
    "### Building the CNN"
   ]
  },
  {
   "cell_type": "code",
   "execution_count": 67,
   "metadata": {},
   "outputs": [],
   "source": [
    "# Creates cnn object and initializes it as a sequence of layers\n",
    "\n",
    "cnn = tf.keras.models.Sequential()"
   ]
  },
  {
   "cell_type": "markdown",
   "metadata": {},
   "source": [
    "#### Adding the first Convolution Layer and Pooling"
   ]
  },
  {
   "cell_type": "code",
   "execution_count": 68,
   "metadata": {},
   "outputs": [],
   "source": [
    "\n",
    "cnn.add(tf.keras.layers.Conv2D(filters=32, kernel_size=3, activation='relu', input_shape=[64,64,3]))"
   ]
  },
  {
   "cell_type": "code",
   "execution_count": 69,
   "metadata": {},
   "outputs": [],
   "source": [
    "# Max Pooling\n",
    "\n",
    "cnn.add(tf.keras.layers.MaxPool2D(pool_size=2, strides=2))"
   ]
  },
  {
   "cell_type": "markdown",
   "metadata": {},
   "source": [
    "#### Adding the second Convolution Layer and Pooling"
   ]
  },
  {
   "cell_type": "code",
   "execution_count": 70,
   "metadata": {},
   "outputs": [],
   "source": [
    "\n",
    "cnn.add(tf.keras.layers.Conv2D(filters=32, kernel_size=3, activation='relu'))"
   ]
  },
  {
   "cell_type": "code",
   "execution_count": 71,
   "metadata": {},
   "outputs": [],
   "source": [
    "cnn.add(tf.keras.layers.MaxPool2D(pool_size=2, strides=2))"
   ]
  },
  {
   "cell_type": "markdown",
   "metadata": {},
   "source": [
    "#### Flattening"
   ]
  },
  {
   "cell_type": "code",
   "execution_count": 72,
   "metadata": {},
   "outputs": [],
   "source": [
    "\n",
    "cnn.add(tf.keras.layers.Flatten())"
   ]
  },
  {
   "cell_type": "markdown",
   "metadata": {},
   "source": [
    "#### Full Connection"
   ]
  },
  {
   "cell_type": "code",
   "execution_count": 73,
   "metadata": {},
   "outputs": [],
   "source": [
    "# Adding a fully connected layer that will have flattened vector as its input\n",
    "cnn.add(tf.keras.layers.Dense(units=128, activation='relu'))"
   ]
  },
  {
   "cell_type": "markdown",
   "metadata": {},
   "source": [
    "#### Output Layer"
   ]
  },
  {
   "cell_type": "code",
   "execution_count": 74,
   "metadata": {},
   "outputs": [],
   "source": [
    "\n",
    "cnn.add(tf.keras.layers.Dense(units=1, activation='sigmoid'))"
   ]
  },
  {
   "cell_type": "markdown",
   "metadata": {},
   "source": [
    "### Training the CNN"
   ]
  },
  {
   "cell_type": "markdown",
   "metadata": {},
   "source": [
    "#### Compiling the CNN"
   ]
  },
  {
   "cell_type": "code",
   "execution_count": 75,
   "metadata": {},
   "outputs": [],
   "source": [
    "\n",
    "cnn.compile(optimizer='adam', loss='binary_crossentropy', metrics=['accuracy'])"
   ]
  },
  {
   "cell_type": "markdown",
   "metadata": {},
   "source": [
    "#### Training the CNN and evaluating on the Test set"
   ]
  },
  {
   "cell_type": "code",
   "execution_count": 76,
   "metadata": {},
   "outputs": [
    {
     "name": "stdout",
     "output_type": "stream",
     "text": [
      "WARNING:tensorflow:sample_weight modes were coerced from\n",
      "  ...\n",
      "    to  \n",
      "  ['...']\n",
      "WARNING:tensorflow:sample_weight modes were coerced from\n",
      "  ...\n",
      "    to  \n",
      "  ['...']\n",
      "Train for 250 steps, validate for 63 steps\n",
      "Epoch 1/25\n",
      "250/250 [==============================] - 62s 250ms/step - loss: 0.6476 - accuracy: 0.6160 - val_loss: 0.5892 - val_accuracy: 0.6900\n",
      "Epoch 2/25\n",
      "250/250 [==============================] - 60s 239ms/step - loss: 0.5773 - accuracy: 0.7025 - val_loss: 0.5558 - val_accuracy: 0.7235\n",
      "Epoch 3/25\n",
      "250/250 [==============================] - 60s 239ms/step - loss: 0.5437 - accuracy: 0.7231 - val_loss: 0.5181 - val_accuracy: 0.7465\n",
      "Epoch 4/25\n",
      "250/250 [==============================] - 60s 241ms/step - loss: 0.5168 - accuracy: 0.7421 - val_loss: 0.4855 - val_accuracy: 0.7600\n",
      "Epoch 5/25\n",
      "250/250 [==============================] - 61s 243ms/step - loss: 0.4946 - accuracy: 0.7592 - val_loss: 0.5063 - val_accuracy: 0.7640\n",
      "Epoch 6/25\n",
      "250/250 [==============================] - 60s 239ms/step - loss: 0.4790 - accuracy: 0.7665 - val_loss: 0.4910 - val_accuracy: 0.7645\n",
      "Epoch 7/25\n",
      "250/250 [==============================] - 60s 240ms/step - loss: 0.4603 - accuracy: 0.7789 - val_loss: 0.4900 - val_accuracy: 0.7750\n",
      "Epoch 8/25\n",
      "250/250 [==============================] - 60s 238ms/step - loss: 0.4434 - accuracy: 0.7947 - val_loss: 0.4747 - val_accuracy: 0.7830\n",
      "Epoch 9/25\n",
      "250/250 [==============================] - 60s 240ms/step - loss: 0.4237 - accuracy: 0.8052 - val_loss: 0.4850 - val_accuracy: 0.7830\n",
      "Epoch 10/25\n",
      "250/250 [==============================] - 61s 244ms/step - loss: 0.4164 - accuracy: 0.8096 - val_loss: 0.4436 - val_accuracy: 0.7990\n",
      "Epoch 11/25\n",
      "250/250 [==============================] - 59s 238ms/step - loss: 0.4088 - accuracy: 0.8080 - val_loss: 0.4494 - val_accuracy: 0.7990\n",
      "Epoch 12/25\n",
      "250/250 [==============================] - 60s 238ms/step - loss: 0.3890 - accuracy: 0.8160 - val_loss: 0.4601 - val_accuracy: 0.7905\n",
      "Epoch 13/25\n",
      "250/250 [==============================] - 60s 238ms/step - loss: 0.3887 - accuracy: 0.8185 - val_loss: 0.4432 - val_accuracy: 0.8010\n",
      "Epoch 14/25\n",
      "250/250 [==============================] - 61s 242ms/step - loss: 0.3676 - accuracy: 0.8346 - val_loss: 0.4704 - val_accuracy: 0.8065\n",
      "Epoch 15/25\n",
      "250/250 [==============================] - 61s 243ms/step - loss: 0.3587 - accuracy: 0.8374 - val_loss: 0.4520 - val_accuracy: 0.7990\n",
      "Epoch 16/25\n",
      "250/250 [==============================] - 61s 245ms/step - loss: 0.3448 - accuracy: 0.8490 - val_loss: 0.4893 - val_accuracy: 0.8005\n",
      "Epoch 17/25\n",
      "250/250 [==============================] - 61s 243ms/step - loss: 0.3300 - accuracy: 0.8485 - val_loss: 0.4745 - val_accuracy: 0.8040\n",
      "Epoch 18/25\n",
      "250/250 [==============================] - 61s 246ms/step - loss: 0.3064 - accuracy: 0.8673 - val_loss: 0.4386 - val_accuracy: 0.8135\n",
      "Epoch 19/25\n",
      "250/250 [==============================] - 61s 243ms/step - loss: 0.3099 - accuracy: 0.8665 - val_loss: 0.4846 - val_accuracy: 0.8040\n",
      "Epoch 20/25\n",
      "250/250 [==============================] - 60s 239ms/step - loss: 0.2874 - accuracy: 0.8775 - val_loss: 0.5032 - val_accuracy: 0.7880\n",
      "Epoch 21/25\n",
      "250/250 [==============================] - 59s 238ms/step - loss: 0.2738 - accuracy: 0.8881 - val_loss: 0.4704 - val_accuracy: 0.8055\n",
      "Epoch 22/25\n",
      "250/250 [==============================] - 60s 239ms/step - loss: 0.2683 - accuracy: 0.8875 - val_loss: 0.5158 - val_accuracy: 0.7815\n",
      "Epoch 23/25\n",
      "250/250 [==============================] - 59s 238ms/step - loss: 0.2433 - accuracy: 0.8976 - val_loss: 0.5179 - val_accuracy: 0.7980\n",
      "Epoch 24/25\n",
      "250/250 [==============================] - 60s 241ms/step - loss: 0.2380 - accuracy: 0.9019 - val_loss: 0.4812 - val_accuracy: 0.8095\n",
      "Epoch 25/25\n",
      "250/250 [==============================] - 60s 240ms/step - loss: 0.2265 - accuracy: 0.9082 - val_loss: 0.5820 - val_accuracy: 0.7885\n"
     ]
    },
    {
     "data": {
      "text/plain": [
       "<tensorflow.python.keras.callbacks.History at 0x1e6e58f4848>"
      ]
     },
     "execution_count": 76,
     "metadata": {},
     "output_type": "execute_result"
    }
   ],
   "source": [
    "cnn.fit(x = training_set, validation_data = test_set, epochs = 25)"
   ]
  },
  {
   "cell_type": "markdown",
   "metadata": {},
   "source": [
    "* **The model gets an accuracy of 90.82% on the Training Set**\n",
    "* **The model gets an accuracy of 78.85% on the Test Set**"
   ]
  },
  {
   "cell_type": "markdown",
   "metadata": {},
   "source": [
    "### Making a single prediction"
   ]
  },
  {
   "cell_type": "code",
   "execution_count": 77,
   "metadata": {},
   "outputs": [],
   "source": [
    "import numpy as np\n",
    "from keras.preprocessing import image"
   ]
  },
  {
   "cell_type": "code",
   "execution_count": 78,
   "metadata": {},
   "outputs": [
    {
     "data": {
      "text/plain": [
       "{'cats': 0, 'dogs': 1}"
      ]
     },
     "execution_count": 78,
     "metadata": {},
     "output_type": "execute_result"
    }
   ],
   "source": [
    "training_set.class_indices"
   ]
  },
  {
   "cell_type": "code",
   "execution_count": 98,
   "metadata": {},
   "outputs": [],
   "source": [
    "# Importing the test image\n",
    "test_image1 = image.load_img('dataset/single_prediction/cat_or_dog_1.jpg', target_size = (64,64))\n",
    "\n",
    "test_image1 = image.img_to_array(test_image1)\n",
    "\n",
    "test_image1 = np.expand_dims(test_image1, axis=0)\n",
    "\n",
    "# Predicting the result\n",
    "result = cnn.predict(test_image1)\n",
    "\n",
    "if result[0][0]==1:\n",
    "    prediction = 'DOG'\n",
    "else:\n",
    "    prediction = 'CAT'"
   ]
  },
  {
   "cell_type": "code",
   "execution_count": 99,
   "metadata": {
    "scrolled": true
   },
   "outputs": [
    {
     "name": "stdout",
     "output_type": "stream",
     "text": [
      "The image is of a DOG !!!\n"
     ]
    }
   ],
   "source": [
    "print('The image is of a',prediction,'!!!')"
   ]
  }
 ],
 "metadata": {
  "colab": {
   "collapsed_sections": [],
   "name": "cnn.ipynb",
   "provenance": []
  },
  "kernelspec": {
   "display_name": "Python 3",
   "language": "python",
   "name": "python3"
  },
  "language_info": {
   "codemirror_mode": {
    "name": "ipython",
    "version": 3
   },
   "file_extension": ".py",
   "mimetype": "text/x-python",
   "name": "python",
   "nbconvert_exporter": "python",
   "pygments_lexer": "ipython3",
   "version": "3.7.6"
  }
 },
 "nbformat": 4,
 "nbformat_minor": 1
}
